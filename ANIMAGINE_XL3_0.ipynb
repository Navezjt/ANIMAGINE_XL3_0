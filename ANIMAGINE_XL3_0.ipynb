{
  "nbformat": 4,
  "nbformat_minor": 0,
  "metadata": {
    "colab": {
      "provenance": [],
      "gpuType": "T4",
      "collapsed_sections": [
        "rNV4ABUADWtN"
      ]
    },
    "kernelspec": {
      "name": "python3",
      "display_name": "Python 3"
    },
    "language_info": {
      "name": "python"
    },
    "accelerator": "GPU"
  },
  "cells": [
    {
      "cell_type": "markdown",
      "source": [
        "#🧠ANIMAGINE_XL3_0_Navez ⚡\n",
        "\n",
        "*if you find this helpful consider becoming a member on patreon, subscribe to my youtube for Ai applications guides*\n",
        "\n",
        "[![Patreon](https://img.shields.io/badge/Patreon-Support-orange?style=rounded-square&logo=patreon)](https://www.patreon.com/user?u=98917275)\n",
        "[![Youtube](https://img.shields.io/badge/Youtube-Subscribe-red?style=rounded-square&logo=youtube)](https://www.youtube.com/@clementetumbajulcan4712)\n",
        "[![GitHub](https://img.shields.io/badge/GitHub-Visit-blue?style=rounded-square&logo=github)](https://github.com/Navezjt)\n",
        "[![Huggingface](https://img.shields.io/badge/Huggingface-visit-yellow?style=rounded-square&logo=huggingface)](https://huggingface.co/JCTN)\n",
        "[![Instagram](https://img.shields.io/badge/Instagarm-Follow-pink?style=rounded-square&logo=Instagram)](https://Instagram.com/joeltumbajulca)"
      ],
      "metadata": {
        "id": "qQj4jOmnRplw"
      }
    },
    {
      "cell_type": "code",
      "source": [
        "#@title # <font color=\"#0497e0\">**JOEL CTN**</font>UI + <font color=\"#4684a3\"> RADIO\n",
        "%%html\n",
        "<b>Press play on the music player(Uses only 13MB of data)</b><br/>\n",
        "<audio src=\"http://stream.zeno.fm/vq4s9m2sg48uv\" controls>"
      ],
      "metadata": {
        "cellView": "form",
        "id": "tRBk1RpZR-Lf"
      },
      "execution_count": null,
      "outputs": []
    },
    {
      "cell_type": "markdown",
      "source": [
        "# **</font>UI + <font color=\"#4684y3\">Install**"
      ],
      "metadata": {
        "id": "qgm6ewhgDM96"
      }
    },
    {
      "cell_type": "code",
      "execution_count": null,
      "metadata": {
        "id": "-w6_TH1qJB-F",
        "cellView": "form"
      },
      "outputs": [],
      "source": [
        "#@title # <font color=\"#0497e0\">**JOEL CTN**</font>UI + <font color=\"#4684a3\"> XF\n",
        "!pip install -q diffusers --upgrade\n",
        "!pip install -q transformers accelerate safetensors xformers"
      ]
    },
    {
      "cell_type": "markdown",
      "source": [
        "# **Load Model**"
      ],
      "metadata": {
        "id": "rNV4ABUADWtN"
      }
    },
    {
      "cell_type": "code",
      "source": [
        "#@title # <font color=\"#0497e0\">**JOEL CTN**</font>UI + <font color=\"#4684a3\"> MODEL\n",
        "import torch\n",
        "from diffusers import (\n",
        "    StableDiffusionXLPipeline,\n",
        "    EulerAncestralDiscreteScheduler,\n",
        "    AutoencoderKL\n",
        ")\n",
        "\n",
        "# Load VAE component\n",
        "vae = AutoencoderKL.from_pretrained(\n",
        "    \"madebyollin/sdxl-vae-fp16-fix\",\n",
        "    torch_dtype=torch.float16\n",
        ")\n",
        "\n",
        "# Configure the pipeline\n",
        "pipe = StableDiffusionXLPipeline.from_pretrained(\n",
        "    \"cagliostrolab/animagine-xl-3.0\",\n",
        "    vae=vae,\n",
        "    torch_dtype=torch.float16,\n",
        "    use_safetensors=True,\n",
        ")\n",
        "pipe.scheduler = EulerAncestralDiscreteScheduler.from_config(pipe.scheduler.config)\n",
        "pipe.enable_xformers_memory_efficient_attention()\n",
        "pipe.to('cuda')"
      ],
      "metadata": {
        "id": "ZjUc7qpVJPzk",
        "cellView": "form"
      },
      "execution_count": null,
      "outputs": []
    },
    {
      "cell_type": "markdown",
      "source": [
        "# **</font>UI + <font color=\"#4684y3\">Generate**"
      ],
      "metadata": {
        "id": "GoA-XwIkDdXx"
      }
    },
    {
      "cell_type": "code",
      "source": [
        "#@title # <font color=\"#0497e0\">**JOEL CTN**</font>UI + <font color=\"#4684a3\"> Set Param\n",
        "chara_name = \"1girl, kurosawa dia, love live!\" # @param {type:\"string\"}\n",
        "details = \"(gym uniform,red buruma, white shirt, short sleeves, thighs:1.3), indoors, locker room,depth of field, ponytail, black hair,(ribbon:1.2), (embarrassed,blush:1.3)\" # @param {type:\"string\"}\n",
        "quality = \"masterpiece, best quality\" # @param {type:\"string\"}\n",
        "ops_apply = False # @param {type:\"boolean\"}\n",
        "linear_ops = \"monochrome, lineart greyscale, simple background,\" # @param {type:\"string\"}\n",
        "negative_prompt = \"nsfw, rating: sensitive, lowres, bad anatomy, bad hands, text, error, missing fingers, extra digit, fewer digits, cropped, worst quality, low quality, normal quality, jpeg artifacts, signature, watermark, username, blurry, artist name\" # @param {type:\"string\"}\n",
        "import matplotlib.pyplot as plt\n",
        "from PIL import Image\n",
        "\n",
        "prompt = chara_name + \", \" + details + \", \" + quality\n",
        "\n",
        "if ops_apply:\n",
        "  prompt = prompt + \", \" + linear_ops\n",
        "\n",
        "SEED = 8107727106147728 # @param {type:\"integer\"}\n",
        "is_manual_seed = False # @param {type:\"boolean\"}\n",
        "size = \"832 x 1216\" # @param [\"1024 x 1024\", \"1152 x 896\", \"896 x 1152\", \"1216 x 832\", \"832 x 1216\", \"1344 x 768\", \"768 x 1344\", \"1536 x 640\", \"640 x 1536\"]\n",
        "width, height = map(int, size.split(\" x \"))\n",
        "\n",
        "CFG_scale = 7 # @param {type:\"number\"}\n",
        "sampling_steps = 28 # @param {type:\"integer\"}\n",
        "num_images = 1 # @param [\"1\", \"2\", \"4\", \"6\"] {type:\"raw\"}\n",
        "\n",
        "generator = torch.Generator('cuda')\n",
        "# シード値固定\n",
        "if is_manual_seed:\n",
        "  generator.manual_seed(SEED)\n",
        "else:\n",
        "  generator.seed()\n",
        "\n",
        "import datetime\n",
        "\n",
        "\n",
        "images = pipe(\n",
        "    prompt,\n",
        "    negative_prompt=negative_prompt,\n",
        "    width=width,\n",
        "    height=height,\n",
        "    guidance_scale=CFG_scale,\n",
        "    target_size=(width,height),\n",
        "    original_size=(width*4,height*4),\n",
        "    num_inference_steps=sampling_steps,\n",
        "    generator=generator,\n",
        "    num_images_per_prompt=num_images\n",
        ").images\n",
        "\n",
        "for image in images:\n",
        "  date = datetime.datetime.now()\n",
        "  output = f\"/content/{date}_{generator.initial_seed()}_anime_girl.png\"\n",
        "  image.save(output)\n",
        "\n",
        "from mpl_toolkits.axes_grid1 import ImageGrid\n",
        "\n",
        "# 列数\n",
        "ncols = 2\n",
        "\n",
        "# 行数\n",
        "nimg = len(images)\n",
        "nrows = nimg // ncols if nimg % ncols == 0 else nimg // ncols + 1\n",
        "\n",
        "fig = plt.figure(figsize=(11,11))\n",
        "\n",
        "# ImageGridインスタンスの作成\n",
        "grid = ImageGrid(fig, 111,\n",
        "                 nrows_ncols=(nrows, ncols),\n",
        "                 axes_pad=0.2)\n",
        "\n",
        "# 画像を貼り込む\n",
        "for ax, img in zip(grid, images):\n",
        "    ax.imshow(img)\n",
        "\n",
        "# 軸を消す\n",
        "for ax in grid.axes_all:\n",
        "    ax.axis('off')\n",
        "\n",
        "plt.show()\n"
      ],
      "metadata": {
        "id": "wQj4xde8JcGd",
        "cellView": "form"
      },
      "execution_count": null,
      "outputs": []
    },
    {
      "cell_type": "markdown",
      "source": [
        "# **</font>UI + <font color=\"#4684y3\">Clean Memory**"
      ],
      "metadata": {
        "id": "Rf3Knhxl9x7G"
      }
    },
    {
      "cell_type": "code",
      "source": [
        "#@title # <font color=\"#0497e0\">**JOEL CTN**</font>UI + <font color=\"#4684a3\"> NAVEZ\n",
        "import gc\n",
        "\n",
        "if \"pipe\" in globals():\n",
        "    del pipe\n",
        "if \"image\" in globals():\n",
        "    del image\n",
        "torch.cuda.empty_cache()\n",
        "gc.collect()"
      ],
      "metadata": {
        "id": "ZBl1dOOD9u8_",
        "cellView": "form"
      },
      "execution_count": null,
      "outputs": []
    }
  ]
}